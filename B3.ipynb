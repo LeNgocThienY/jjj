{
 "cells": [
  {
   "cell_type": "markdown",
   "metadata": {},
   "source": [
    "# List"
   ]
  },
  {
   "cell_type": "code",
   "execution_count": 12,
   "metadata": {},
   "outputs": [
    {
     "name": "stdout",
     "output_type": "stream",
     "text": [
      "[2, 4, 6, 8, 10, 2, 4, 6]\n"
     ]
    }
   ],
   "source": [
    "a = [1, 2, 3, 4, 5, 1, 2, 3]\n",
    "for i in range (len(a)):\n",
    "    a[i]*=2\n",
    "print (a)"
   ]
  },
  {
   "cell_type": "code",
   "execution_count": 19,
   "metadata": {},
   "outputs": [
    {
     "name": "stdout",
     "output_type": "stream",
     "text": [
      "2\n",
      "4\n",
      "6\n",
      "8\n",
      "10\n",
      "2\n",
      "4\n",
      "6\n",
      "b =  5\n",
      "[1, 2, 3, 4, 5]\n",
      "[4, 5]\n",
      "[]\n"
     ]
    }
   ],
   "source": [
    "a = [1, 2, 3, 4, 5, 1, 2, 3]\n",
    "for i in a:\n",
    "    i*=2\n",
    "    print (i)\n",
    "b=a[4]\n",
    "print (\"b = \", b)\n",
    "print (a [: 5])\n",
    "print (a[3 : 5])\n",
    "print (a[-1 : 3])"
   ]
  },
  {
   "cell_type": "code",
   "execution_count": 32,
   "metadata": {},
   "outputs": [
    {
     "name": "stdout",
     "output_type": "stream",
     "text": [
      "['bannana', 'bannana', 'grape', 'mango', 'watermelon']\n",
      "['bannana', 'bannana', 'grape', 'mango', 'watermelon']\n"
     ]
    }
   ],
   "source": [
    "fruits = [\"bannana\", \"apple\", \"lemon\", \"watermelon\"]\n",
    "fruits.append(\"bannana\")\n",
    "fruits.insert(3, \"grape\")\n",
    "fruits[2]=\"mango\"\n",
    "fruits.remove(\"apple\")\n",
    "fruits.sort()\n",
    "b = sorted(fruits)\n",
    "print (fruits)\n",
    "print (b)"
   ]
  },
  {
   "cell_type": "markdown",
   "metadata": {},
   "source": [
    "# Tuple"
   ]
  },
  {
   "cell_type": "code",
   "execution_count": 58,
   "metadata": {},
   "outputs": [
    {
     "name": "stdout",
     "output_type": "stream",
     "text": [
      "1\n",
      "2\n",
      "3\n"
     ]
    }
   ],
   "source": [
    "tp1 = (1, 2, 3)\n",
    "for i in tp1:\n",
    "    print (i)\n"
   ]
  },
  {
   "cell_type": "code",
   "execution_count": 59,
   "metadata": {},
   "outputs": [
    {
     "name": "stdout",
     "output_type": "stream",
     "text": [
      "1\n",
      "2\n",
      "3\n"
     ]
    }
   ],
   "source": [
    "for i in range(len(tp1)):\n",
    "   # tp1[1]+=1\n",
    "    print (tp1[i])"
   ]
  },
  {
   "cell_type": "code",
   "execution_count": 60,
   "metadata": {},
   "outputs": [
    {
     "data": {
      "text/plain": [
       "(1, 2, 3, 4, 5)"
      ]
     },
     "execution_count": 60,
     "metadata": {},
     "output_type": "execute_result"
    }
   ],
   "source": [
    "tp1 = list (tp1)\n",
    "tp1.append(4)\n",
    "tp1.append(5)\n",
    "tp1 = tuple(tp1)\n",
    "tp1"
   ]
  },
  {
   "cell_type": "markdown",
   "metadata": {},
   "source": [
    "# SET"
   ]
  },
  {
   "cell_type": "code",
   "execution_count": 64,
   "metadata": {},
   "outputs": [
    {
     "name": "stdout",
     "output_type": "stream",
     "text": [
      "{0, 2, 4, 6, 8}\n",
      "{1, 3, 5, 7, 9}\n"
     ]
    }
   ],
   "source": [
    "Chan={0, 2, 4, 6, 8}\n",
    "Le ={1, 3, 5, 7, 9}\n",
    "print (Chan)\n",
    "print (Le)\n"
   ]
  },
  {
   "cell_type": "code",
   "execution_count": 70,
   "metadata": {},
   "outputs": [
    {
     "name": "stdout",
     "output_type": "stream",
     "text": [
      "Hop 2 tap hop la: {0, 1, 2, 3, 4, 5, 6, 7, 8, 9, 10}\n",
      "Giao 2 tap hop la: set()\n"
     ]
    }
   ],
   "source": [
    "set1 = Chan.union(Le)\n",
    "set2 = Chan.intersection(Le)\n",
    "print(\"Hop 2 tap hop la:\", set1)\n",
    "print(\"Giao 2 tap hop la:\", set2)"
   ]
  },
  {
   "cell_type": "code",
   "execution_count": 85,
   "metadata": {},
   "outputs": [
    {
     "name": "stdout",
     "output_type": "stream",
     "text": [
      "[10, 2, 20, 18, 19, 5, 13, 15, 10, 5, 9, 6, 13, 19, 11, 9, 6, 18, 18, 19, 12, 13, 11, 8, 17, 19, 15, 3, 11, 10, 20, 8, 17, 19, 6, 2, 8, 18, 7, 11, 10, 11, 10, 13, 16, 14, 3, 3, 17, 19, 9, 10, 15, 20, 12, 18, 3, 10, 11, 9, 11, 11, 8, 5, 17, 15, 16, 12, 9, 12, 12, 2, 20, 19, 19, 17, 17, 14, 20, 19, 15, 13, 8, 9, 14, 20, 10, 11, 1, 15, 9, 20, 20, 6, 7, 10, 4, 13, 10, 16]\n",
      "Số 10 xuất hiện  1 lan\n",
      "Số 2 xuất hiện  1 lan\n",
      "Số 20 xuất hiện  1 lan\n",
      "Số 18 xuất hiện  1 lan\n",
      "Số 19 xuất hiện  1 lan\n",
      "Số 5 xuất hiện  1 lan\n",
      "Số 13 xuất hiện  1 lan\n",
      "Số 15 xuất hiện  1 lan\n",
      "Số 10 xuất hiện  1 lan\n",
      "Số 5 xuất hiện  1 lan\n",
      "Số 9 xuất hiện  1 lan\n",
      "Số 6 xuất hiện  1 lan\n",
      "Số 13 xuất hiện  1 lan\n",
      "Số 19 xuất hiện  1 lan\n",
      "Số 11 xuất hiện  1 lan\n",
      "Số 9 xuất hiện  1 lan\n",
      "Số 6 xuất hiện  1 lan\n",
      "Số 18 xuất hiện  2 lan\n",
      "Số 19 xuất hiện  2 lan\n",
      "Số 12 xuất hiện  2 lan\n",
      "Số 13 xuất hiện  2 lan\n",
      "Số 11 xuất hiện  2 lan\n",
      "Số 8 xuất hiện  2 lan\n",
      "Số 17 xuất hiện  2 lan\n",
      "Số 19 xuất hiện  2 lan\n",
      "Số 15 xuất hiện  2 lan\n",
      "Số 3 xuất hiện  2 lan\n",
      "Số 11 xuất hiện  2 lan\n",
      "Số 10 xuất hiện  2 lan\n",
      "Số 20 xuất hiện  2 lan\n",
      "Số 8 xuất hiện  2 lan\n",
      "Số 17 xuất hiện  2 lan\n",
      "Số 19 xuất hiện  2 lan\n",
      "Số 6 xuất hiện  2 lan\n",
      "Số 2 xuất hiện  2 lan\n",
      "Số 8 xuất hiện  2 lan\n",
      "Số 18 xuất hiện  2 lan\n",
      "Số 7 xuất hiện  2 lan\n",
      "Số 11 xuất hiện  2 lan\n",
      "Số 10 xuất hiện  2 lan\n",
      "Số 11 xuất hiện  2 lan\n",
      "Số 10 xuất hiện  2 lan\n",
      "Số 13 xuất hiện  2 lan\n",
      "Số 16 xuất hiện  2 lan\n",
      "Số 14 xuất hiện  2 lan\n",
      "Số 3 xuất hiện  3 lan\n",
      "Số 17 xuất hiện  3 lan\n",
      "Số 19 xuất hiện  3 lan\n",
      "Số 9 xuất hiện  3 lan\n",
      "Số 10 xuất hiện  3 lan\n",
      "Số 15 xuất hiện  3 lan\n",
      "Số 20 xuất hiện  3 lan\n",
      "Số 12 xuất hiện  3 lan\n",
      "Số 18 xuất hiện  3 lan\n",
      "Số 3 xuất hiện  3 lan\n",
      "Số 10 xuất hiện  3 lan\n",
      "Số 11 xuất hiện  3 lan\n",
      "Số 9 xuất hiện  3 lan\n",
      "Số 11 xuất hiện  4 lan\n",
      "Số 8 xuất hiện  4 lan\n",
      "Số 5 xuất hiện  4 lan\n",
      "Số 17 xuất hiện  4 lan\n",
      "Số 15 xuất hiện  4 lan\n",
      "Số 16 xuất hiện  4 lan\n",
      "Số 12 xuất hiện  4 lan\n",
      "Số 9 xuất hiện  4 lan\n",
      "Số 12 xuất hiện  5 lan\n",
      "Số 2 xuất hiện  5 lan\n",
      "Số 20 xuất hiện  5 lan\n",
      "Số 19 xuất hiện  6 lan\n",
      "Số 17 xuất hiện  7 lan\n",
      "Số 14 xuất hiện  7 lan\n",
      "Số 20 xuất hiện  7 lan\n",
      "Số 19 xuất hiện  7 lan\n",
      "Số 15 xuất hiện  7 lan\n",
      "Số 13 xuất hiện  7 lan\n",
      "Số 8 xuất hiện  7 lan\n",
      "Số 9 xuất hiện  7 lan\n",
      "Số 14 xuất hiện  7 lan\n",
      "Số 20 xuất hiện  7 lan\n",
      "Số 10 xuất hiện  7 lan\n",
      "Số 11 xuất hiện  7 lan\n",
      "Số 1 xuất hiện  7 lan\n",
      "Số 15 xuất hiện  7 lan\n",
      "Số 9 xuất hiện  7 lan\n",
      "Số 20 xuất hiện  8 lan\n",
      "Số 6 xuất hiện  8 lan\n",
      "Số 7 xuất hiện  8 lan\n",
      "Số 10 xuất hiện  8 lan\n",
      "Số 4 xuất hiện  8 lan\n",
      "Số 13 xuất hiện  8 lan\n",
      "Số 10 xuất hiện  8 lan\n",
      "Số 10 xuất hiện  8 lan\n"
     ]
    }
   ],
   "source": [
    "import random\n",
    "list = []\n",
    "for i in range (100):\n",
    "    i = random.randint (1, 20)\n",
    "    list.append(i)\n",
    "print (list)\n",
    "dem = 1\n",
    "for i in range(1, len(list)):\n",
    "\n",
    "    if list[i] == list[i-1]:\n",
    "        dem +=1\n",
    "    else:\n",
    "        print(\"Số\", list[i-1], \"xuất hiện \", dem, \"lan\")\n",
    "print(\"Số\", list[i-1], \"xuất hiện \", dem, \"lan\") \n",
    "\n",
    "    "
   ]
  }
 ],
 "metadata": {
  "kernelspec": {
   "display_name": "Python 3",
   "language": "python",
   "name": "python3"
  },
  "language_info": {
   "codemirror_mode": {
    "name": "ipython",
    "version": 3
   },
   "file_extension": ".py",
   "mimetype": "text/x-python",
   "name": "python",
   "nbconvert_exporter": "python",
   "pygments_lexer": "ipython3",
   "version": "3.12.6"
  }
 },
 "nbformat": 4,
 "nbformat_minor": 2
}
