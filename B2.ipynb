{
 "cells": [
  {
   "cell_type": "code",
   "execution_count": 2,
   "metadata": {},
   "outputs": [
    {
     "name": "stdout",
     "output_type": "stream",
     "text": [
      "140712075528824\n",
      "140712075528824\n"
     ]
    }
   ],
   "source": [
    "a = 7\n",
    "b = a\n",
    "print (id(a))\n",
    "print (id(b))"
   ]
  },
  {
   "cell_type": "code",
   "execution_count": 3,
   "metadata": {},
   "outputs": [
    {
     "name": "stdout",
     "output_type": "stream",
     "text": [
      "7 9\n",
      "140713215789688\n",
      "140713215789752\n"
     ]
    }
   ],
   "source": [
    "b +=1# CTDL nâng cao Python kkhoong tự sinh ra các ô nhớ bằng IDP để quản lý dl đó\n",
    "print (a,b)\n",
    "print (id(a))\n",
    "print (id(b))"
   ]
  },
  {
   "cell_type": "code",
   "execution_count": 4,
   "metadata": {},
   "outputs": [
    {
     "name": "stdout",
     "output_type": "stream",
     "text": [
      "2 1\n"
     ]
    }
   ],
   "source": [
    "a = 1\n",
    "b = 2\n",
    "a,b = b,a\n",
    "print(a,b)\n"
   ]
  },
  {
   "cell_type": "code",
   "execution_count": 8,
   "metadata": {},
   "outputs": [
    {
     "name": "stdout",
     "output_type": "stream",
     "text": [
      "Tổng 2 + 3 = 5\n",
      "Tong2+3=5\n"
     ]
    }
   ],
   "source": [
    "a = int (input (\"Nhập: \"))\n",
    "b = int (input (\"Nhập: \"))\n",
    "print (\"Tổng\", a, \"+\", b, \"=\", a+b)\n",
    "print (f\"Tong{a}+{b}={a+b}\")"
   ]
  },
  {
   "cell_type": "code",
   "execution_count": 12,
   "metadata": {},
   "outputs": [
    {
     "name": "stdout",
     "output_type": "stream",
     "text": [
      "Hôm nay là Chủ nhật\n"
     ]
    }
   ],
   "source": [
    "a = int(input(\"Nhập: \"))\n",
    "if a == 2:\n",
    "    print(\"Hôm nay là thứ\",a)\n",
    "elif a == 3:\n",
    "    print(\"Hôm nay là thứ\",a)\n",
    "elif a == 4:\n",
    "    print(\"Hôm nay là thứ\",a)\n",
    "elif a ==5:\n",
    "    print(\"Hôm nay là thứ\",a)\n",
    "elif a == 6:\n",
    "    print(\"Hôm nay là thứ\",a)\n",
    "elif a == 7:\n",
    "    print(\"Hôm nay là thứ\",a)\n",
    "else:\n",
    "    print(\"Hôm nay là Chủ nhật\")\n"
   ]
  },
  {
   "cell_type": "code",
   "execution_count": 13,
   "metadata": {},
   "outputs": [
    {
     "name": "stdout",
     "output_type": "stream",
     "text": [
      "P\n",
      "y\n",
      "t\n",
      "h\n",
      "o\n",
      "n\n"
     ]
    }
   ],
   "source": [
    "language = \"Python\"\n",
    "for x in language:\n",
    "    print (x)"
   ]
  },
  {
   "cell_type": "code",
   "execution_count": 15,
   "metadata": {},
   "outputs": [
    {
     "name": "stdout",
     "output_type": "stream",
     "text": [
      "0\n",
      "2\n",
      "4\n",
      "6\n",
      "8\n",
      "10\n"
     ]
    }
   ],
   "source": [
    "for i in range(11):\n",
    "    if i%2==0:\n",
    "        print (i)"
   ]
  },
  {
   "cell_type": "code",
   "execution_count": 17,
   "metadata": {},
   "outputs": [
    {
     "name": "stdout",
     "output_type": "stream",
     "text": [
      "0\n",
      "1\n",
      "5\n",
      "No item left\n"
     ]
    }
   ],
   "source": [
    "digits =[0, 1, 5]\n",
    "for i in digits:\n",
    "    print (i)\n",
    "else:\n",
    "    print(\"No item left\")"
   ]
  },
  {
   "cell_type": "code",
   "execution_count": 18,
   "metadata": {},
   "outputs": [
    {
     "name": "stdout",
     "output_type": "stream",
     "text": [
      "[0, 1, 2, 3, 4, 5, 6, 7, 8, 9, 10]\n"
     ]
    }
   ],
   "source": [
    "Numbers = [x for x in range (11)]\n",
    "print (Numbers)"
   ]
  },
  {
   "cell_type": "code",
   "execution_count": 3,
   "metadata": {},
   "outputs": [
    {
     "name": "stdout",
     "output_type": "stream",
     "text": [
      "Ước chung lớn nhất của hai số là: 1\n"
     ]
    }
   ],
   "source": [
    "a =int(input(\"Nhập số A: \"))\n",
    "b =int(input(\"Nhập số B: \"))\n",
    "while a != b:\n",
    "    if a < b:\n",
    "        b = b - a\n",
    "        a \n",
    "    elif a > b:\n",
    "        a = a - b\n",
    "print (\"Ước chung lớn nhất của hai số là:\", a)"
   ]
  }
 ],
 "metadata": {
  "kernelspec": {
   "display_name": "Python 3",
   "language": "python",
   "name": "python3"
  },
  "language_info": {
   "codemirror_mode": {
    "name": "ipython",
    "version": 3
   },
   "file_extension": ".py",
   "mimetype": "text/x-python",
   "name": "python",
   "nbconvert_exporter": "python",
   "pygments_lexer": "ipython3",
   "version": "3.12.6"
  }
 },
 "nbformat": 4,
 "nbformat_minor": 2
}
